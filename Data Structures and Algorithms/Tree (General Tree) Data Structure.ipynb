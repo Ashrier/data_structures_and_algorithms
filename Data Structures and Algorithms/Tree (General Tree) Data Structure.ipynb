{
 "cells": [
  {
   "cell_type": "code",
   "execution_count": 1,
   "id": "08415b6a",
   "metadata": {},
   "outputs": [],
   "source": [
    "from collections import deque"
   ]
  },
  {
   "cell_type": "code",
   "execution_count": 124,
   "id": "c990741c",
   "metadata": {},
   "outputs": [],
   "source": [
    "class TreeNode:\n",
    "    def __init__(self, data):\n",
    "        self.data = data\n",
    "        self.children = []\n",
    "        self.parent = None\n",
    "        \n",
    "    def add_child(self, child):\n",
    "        child.parent = self\n",
    "        self.children.append(child)\n",
    "        \n",
    "    def get_level(self):\n",
    "        level = 0\n",
    "        p = self.parent\n",
    "        while p:\n",
    "            level += 1\n",
    "            p = p.parent\n",
    "        return level\n",
    "    \n",
    "    def print_tree(self, argument = None):\n",
    "        \n",
    "        prefix = ' ' * self.get_level()*3+'|__' ##This pretty prints for us.\n",
    "        if argument == None:\n",
    "            print(prefix + self.data)\n",
    "            if len(self.children) != 0:\n",
    "                for child in self.children:\n",
    "                    child.print_tree()\n",
    "                \n",
    "        if argument == 'name':\n",
    "            tokens = self.data.split(' ')\n",
    "            print(prefix + tokens[0])\n",
    "            if len(self.children) != 0:\n",
    "                for child in self.children:\n",
    "                    child.print_tree('name')\n",
    "                    \n",
    "        if argument == 'designation':\n",
    "            tokens = self.data.split(' ')\n",
    "            unprocessed_designation = tokens[1]\n",
    "            processed_designation = unprocessed_designation[1:-1]\n",
    "            print(prefix + processed_designation)\n",
    "            if len(self.children) != 0:\n",
    "                for child in self.children:\n",
    "                    child.print_tree('designation')\n",
    "        \n",
    "        if type(argument) == int:\n",
    "            print(prefix + self.data)\n",
    "            if len(self.children) != 0:\n",
    "                for child in self.children:\n",
    "                    if child.get_level() <= argument:\n",
    "                        child.print_tree(argument)\n",
    "            \n",
    "                "
   ]
  },
  {
   "cell_type": "code",
   "execution_count": 125,
   "id": "30c89f1c",
   "metadata": {},
   "outputs": [],
   "source": [
    "def product_tree():\n",
    "    root = TreeNode('Electronics')\n",
    "    \n",
    "    laptop = TreeNode('Laptop')\n",
    "    laptop.add_child(TreeNode('Mac'))\n",
    "    laptop.add_child(TreeNode('Windows'))\n",
    "    laptop.add_child(TreeNode('Thinkpad'))\n",
    "    \n",
    "    cellphone = TreeNode('Cellphone')\n",
    "    cellphone.add_child(TreeNode('Motorola'))\n",
    "    cellphone.add_child(TreeNode('Samsung'))\n",
    "    cellphone.add_child(TreeNode('Android'))\n",
    "    \n",
    "    tv = TreeNode('Televisions')\n",
    "    tv.add_child(TreeNode('Samsung'))\n",
    "    tv.add_child(TreeNode('LG'))\n",
    "    \n",
    "    root.add_child(laptop)\n",
    "    root.add_child(cellphone)\n",
    "    root.add_child(tv)\n",
    "    \n",
    "    return root\n"
   ]
  },
  {
   "cell_type": "code",
   "execution_count": 126,
   "id": "606bd06a",
   "metadata": {},
   "outputs": [],
   "source": [
    "root = product_tree()"
   ]
  },
  {
   "cell_type": "code",
   "execution_count": 127,
   "id": "03b3b2f4",
   "metadata": {},
   "outputs": [
    {
     "name": "stdout",
     "output_type": "stream",
     "text": [
      "|__Electronics\n",
      "   |__Laptop\n",
      "      |__Mac\n",
      "      |__Windows\n",
      "      |__Thinkpad\n",
      "   |__Cellphone\n",
      "      |__Motorola\n",
      "      |__Samsung\n",
      "      |__Android\n",
      "   |__Televisions\n",
      "      |__Samsung\n",
      "      |__LG\n"
     ]
    }
   ],
   "source": [
    "root.print_tree()"
   ]
  },
  {
   "cell_type": "code",
   "execution_count": 128,
   "id": "22e40474",
   "metadata": {},
   "outputs": [],
   "source": [
    "def company_tree():\n",
    "    root_1 = TreeNode('Nilupul (CEO)')\n",
    "    \n",
    "    branch_1 = TreeNode('Chinmay (CTO)')\n",
    "    branch_1_1 = TreeNode('Vishwa (InfrastructureHead)')\n",
    "    \n",
    "    branch_1.add_child(branch_1_1)\n",
    "    \n",
    "    branch_1_1_1 = TreeNode('Dhaval (CloudManager)')\n",
    "    branch_1_1_2 = TreeNode('Abhijit (AppManager)')\n",
    "    \n",
    "    branch_1_1.add_child(branch_1_1_1)\n",
    "    branch_1_1.add_child(branch_1_1_2)\n",
    "    \n",
    "    branch_2 = TreeNode('Gels (HRHead)')\n",
    "    branch_2_1 = TreeNode('Peter (RecruitManager)')\n",
    "    branch_2_2 = TreeNode('Waqas (PolicyManager)')\n",
    "    \n",
    "    branch_2.add_child(branch_2_1)\n",
    "    branch_2.add_child(branch_2_2)\n",
    "    \n",
    "    root_1.add_child(branch_1)\n",
    "    root_1.add_child(branch_2)\n",
    "    \n",
    "    return root_1"
   ]
  },
  {
   "cell_type": "code",
   "execution_count": 129,
   "id": "43519361",
   "metadata": {},
   "outputs": [],
   "source": [
    "root_1 = company_tree() "
   ]
  },
  {
   "cell_type": "code",
   "execution_count": 130,
   "id": "74daf254",
   "metadata": {},
   "outputs": [
    {
     "name": "stdout",
     "output_type": "stream",
     "text": [
      "|__Nilupul\n",
      "   |__Chinmay\n",
      "      |__Vishwa\n",
      "         |__Dhaval\n",
      "         |__Abhijit\n",
      "   |__Gels\n",
      "      |__Peter\n",
      "      |__Waqas\n"
     ]
    }
   ],
   "source": [
    "root_1.print_tree('name')"
   ]
  },
  {
   "cell_type": "code",
   "execution_count": 131,
   "id": "5413f56a",
   "metadata": {
    "scrolled": true
   },
   "outputs": [
    {
     "name": "stdout",
     "output_type": "stream",
     "text": [
      "|__CEO\n",
      "   |__CTO\n",
      "      |__InfrastructureHead\n",
      "         |__CloudManager\n",
      "         |__AppManager\n",
      "   |__HRHead\n",
      "      |__RecruitManager\n",
      "      |__PolicyManager\n"
     ]
    }
   ],
   "source": [
    "root_1.print_tree('designation')"
   ]
  },
  {
   "cell_type": "code",
   "execution_count": 132,
   "id": "0244cef9",
   "metadata": {},
   "outputs": [],
   "source": [
    "def world():\n",
    "    world = TreeNode('Global')\n",
    "    \n",
    "    country_1 = TreeNode('India')\n",
    "    world.add_child(country_1)\n",
    "    \n",
    "    cs_1_1 = TreeNode('Gujarat')\n",
    "    country_1.add_child(cs_1_1)\n",
    "    \n",
    "    csc_1_1_1 = TreeNode('Ahmedabad')\n",
    "    csc_1_1_2 = TreeNode('Baroda')\n",
    "    cs_1_1.add_child(csc_1_1_1)\n",
    "    cs_1_1.add_child(csc_1_1_2)\n",
    "    \n",
    "    cs_1_2 = TreeNode('Karnataka')\n",
    "    country_1.add_child(cs_1_2)\n",
    "    \n",
    "    csc_1_2_1 = TreeNode('Bangluru')\n",
    "    csc_1_2_2 = TreeNode('Mysore')\n",
    "    cs_1_2.add_child(csc_1_2_1)\n",
    "    cs_1_2.add_child(csc_1_2_2)\n",
    "    \n",
    "    country_2 = TreeNode('USA')\n",
    "    world.add_child(country_2)\n",
    "    \n",
    "    cs_2_1 = TreeNode('New Jersey')\n",
    "    country_2.add_child(cs_2_1)\n",
    "    \n",
    "    csc_2_1_1 = TreeNode('Princeton')\n",
    "    csc_2_1_2 = TreeNode('Trenton')\n",
    "    cs_2_1.add_child(csc_2_1_1)\n",
    "    cs_2_1.add_child(csc_2_1_2)\n",
    "    \n",
    "    cs_2_2 = TreeNode('California')\n",
    "    country_2.add_child(cs_2_2)\n",
    "    \n",
    "    csc_2_2_1 = TreeNode('San Francisco')\n",
    "    csc_2_2_2 = TreeNode('Mountain View')\n",
    "    csc_2_2_3 = TreeNode('Palo Alto')\n",
    "    cs_2_2.add_child(csc_2_2_1)\n",
    "    cs_2_2.add_child(csc_2_2_2)\n",
    "    cs_2_2.add_child(csc_2_2_3)\n",
    "    \n",
    "    return world"
   ]
  },
  {
   "cell_type": "code",
   "execution_count": 133,
   "id": "cab830e3",
   "metadata": {},
   "outputs": [
    {
     "name": "stdout",
     "output_type": "stream",
     "text": [
      "|__Global\n",
      "   |__India\n",
      "      |__Gujarat\n",
      "      |__Karnataka\n",
      "   |__USA\n",
      "      |__New Jersey\n",
      "      |__California\n"
     ]
    }
   ],
   "source": [
    "world1 = world()\n",
    "world1.print_tree(2)"
   ]
  },
  {
   "cell_type": "code",
   "execution_count": null,
   "id": "eebac07e",
   "metadata": {},
   "outputs": [],
   "source": []
  }
 ],
 "metadata": {
  "kernelspec": {
   "display_name": "Python 3 (ipykernel)",
   "language": "python",
   "name": "python3"
  },
  "language_info": {
   "codemirror_mode": {
    "name": "ipython",
    "version": 3
   },
   "file_extension": ".py",
   "mimetype": "text/x-python",
   "name": "python",
   "nbconvert_exporter": "python",
   "pygments_lexer": "ipython3",
   "version": "3.9.16"
  }
 },
 "nbformat": 4,
 "nbformat_minor": 5
}
