{
 "cells": [
  {
   "cell_type": "code",
   "execution_count": 54,
   "id": "2be4cf79",
   "metadata": {},
   "outputs": [],
   "source": [
    "elements = [21, 38, 29, 17, 4, 25, 11, 32, 9]"
   ]
  },
  {
   "cell_type": "code",
   "execution_count": 56,
   "id": "9646dcde",
   "metadata": {},
   "outputs": [
    {
     "data": {
      "text/plain": [
       "[21, 38]"
      ]
     },
     "execution_count": 56,
     "metadata": {},
     "output_type": "execute_result"
    }
   ],
   "source": [
    "elements[:2]"
   ]
  },
  {
   "cell_type": "code",
   "execution_count": 63,
   "id": "c905140f",
   "metadata": {},
   "outputs": [],
   "source": [
    "def insertion_sort(elements, median = None):\n",
    "    for i in range(1, len(elements)):\n",
    "        anchor = elements[i]\n",
    "        j = i -1\n",
    "        \n",
    "        if median == True:\n",
    "            if len(elements[:i])%2==1:\n",
    "                ##Is a odd number so we can take the middle of the current list for the median\n",
    "                middle_num = int((i/2) - 0.5)\n",
    "                print(elements[middle_num])\n",
    "            if len(elements[:i])%2==0:\n",
    "                ##Is a even number se we must take the two middle numbers, add them together, then divide by 2 for the median.\n",
    "                middle_num1 = int(i/2)\n",
    "                middle_num2 = middle_num1 - 1\n",
    "                print(((elements[middle_num1] + elements[middle_num2])/2))\n",
    "                pass\n",
    "        \n",
    "        while j >=0 and anchor < elements[j]:\n",
    "            elements[j+1] = elements[j]\n",
    "            j -= 1\n",
    "        elements[j+1] = anchor\n",
    "        \n"
   ]
  },
  {
   "cell_type": "code",
   "execution_count": 64,
   "id": "2b35d4e9",
   "metadata": {},
   "outputs": [
    {
     "name": "stdout",
     "output_type": "stream",
     "text": [
      "4\n",
      "6.5\n",
      "9\n",
      "10.0\n",
      "11\n",
      "14.0\n",
      "17\n",
      "19.0\n"
     ]
    }
   ],
   "source": [
    "insertion_sort(elements, True)"
   ]
  },
  {
   "cell_type": "code",
   "execution_count": 65,
   "id": "814a8cd8",
   "metadata": {},
   "outputs": [
    {
     "name": "stdout",
     "output_type": "stream",
     "text": [
      "2\n",
      "1.5\n",
      "2\n",
      "3.5\n",
      "2\n",
      "2.0\n"
     ]
    }
   ],
   "source": [
    "sequence = [2, 1, 5, 7, 2, 0, 5]\n",
    "insertion_sort(sequence, True)"
   ]
  },
  {
   "cell_type": "code",
   "execution_count": null,
   "id": "cf0951a8",
   "metadata": {},
   "outputs": [],
   "source": []
  }
 ],
 "metadata": {
  "kernelspec": {
   "display_name": "Python 3 (ipykernel)",
   "language": "python",
   "name": "python3"
  },
  "language_info": {
   "codemirror_mode": {
    "name": "ipython",
    "version": 3
   },
   "file_extension": ".py",
   "mimetype": "text/x-python",
   "name": "python",
   "nbconvert_exporter": "python",
   "pygments_lexer": "ipython3",
   "version": "3.9.12"
  }
 },
 "nbformat": 4,
 "nbformat_minor": 5
}
