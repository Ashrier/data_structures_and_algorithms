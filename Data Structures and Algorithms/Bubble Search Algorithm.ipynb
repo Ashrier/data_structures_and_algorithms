{
 "cells": [
  {
   "cell_type": "code",
   "execution_count": 32,
   "id": "06df004e",
   "metadata": {},
   "outputs": [],
   "source": [
    "# you can use this to sort strings too\n",
    "def bubble_sort(elements, keyword = None, object_type = None):\n",
    "    if object_type == list or object_type == None:\n",
    "        size = len(elements)\n",
    "\n",
    "        for i in range(size-1):\n",
    "            swapped = False\n",
    "            for j in range(size-1-i):\n",
    "                if elements[j] > elements[j+1]:\n",
    "                    tmp = elements[j]\n",
    "                    elements[j] = elements[j+1]\n",
    "                    elements[j+1] = tmp\n",
    "                    swapped = True\n",
    "\n",
    "            if not swapped:\n",
    "                break\n",
    "                \n",
    "    if object_type == dict and keyword != None:\n",
    "        size = len(elements)\n",
    "        for i in range(size - 1):\n",
    "            swapped = False\n",
    "            for j in range(size - 1 - i):\n",
    "                if elements[j][keyword] > elements[j+1][keyword]:\n",
    "                    tmp = elements[j][keyword]\n",
    "                    elements[j][keyword] = elements[j+1][keyword]\n",
    "                    elements[j+1][keyword] = tmp\n",
    "                    swapped = True\n",
    "            if not swapped:\n",
    "                break\n",
    "                \n",
    "            \n",
    "#if __name__ == '__main__':\n",
    "    #elements = [5,9,2,1,67,34,88,34]\n",
    "    #elements = [1,2,3,4,2]\n",
    "    #elements = [\"mona\", \"dhaval\", \"aamir\", \"tina\", \"chang\"]\n",
    "\n",
    "    #bubble_sort(elements)\n",
    "    #print(elements)\n",
    "    "
   ]
  },
  {
   "cell_type": "code",
   "execution_count": 36,
   "id": "b9633822",
   "metadata": {},
   "outputs": [],
   "source": [
    "elements = [\n",
    "        { 'name': 'mona',   'transaction_amount': 1000, 'device': 'iphone-10'},\n",
    "        { 'name': 'dhaval', 'transaction_amount': 400,  'device': 'google pixel'},\n",
    "        { 'name': 'kathy',  'transaction_amount': 200,  'device': 'vivo'},\n",
    "        { 'name': 'aamir',  'transaction_amount': 800,  'device': 'iphone-8'},\n",
    "    ]"
   ]
  },
  {
   "cell_type": "code",
   "execution_count": 34,
   "id": "24ba24a2",
   "metadata": {},
   "outputs": [
    {
     "data": {
      "text/plain": [
       "400"
      ]
     },
     "execution_count": 34,
     "metadata": {},
     "output_type": "execute_result"
    }
   ],
   "source": [
    "#elements\n",
    "elements[1]['transaction_amount']"
   ]
  },
  {
   "cell_type": "code",
   "execution_count": 38,
   "id": "f5d306f3",
   "metadata": {},
   "outputs": [
    {
     "data": {
      "text/plain": [
       "[{'name': 'mona', 'transaction_amount': 200, 'device': 'iphone-10'},\n",
       " {'name': 'dhaval', 'transaction_amount': 400, 'device': 'google pixel'},\n",
       " {'name': 'kathy', 'transaction_amount': 800, 'device': 'vivo'},\n",
       " {'name': 'aamir', 'transaction_amount': 1000, 'device': 'iphone-8'}]"
      ]
     },
     "execution_count": 38,
     "metadata": {},
     "output_type": "execute_result"
    }
   ],
   "source": [
    "bubble_sort(elements, 'transaction_amount', dict)\n",
    "elements"
   ]
  },
  {
   "cell_type": "code",
   "execution_count": null,
   "id": "2462922d",
   "metadata": {},
   "outputs": [],
   "source": []
  }
 ],
 "metadata": {
  "kernelspec": {
   "display_name": "Python 3 (ipykernel)",
   "language": "python",
   "name": "python3"
  },
  "language_info": {
   "codemirror_mode": {
    "name": "ipython",
    "version": 3
   },
   "file_extension": ".py",
   "mimetype": "text/x-python",
   "name": "python",
   "nbconvert_exporter": "python",
   "pygments_lexer": "ipython3",
   "version": "3.9.12"
  }
 },
 "nbformat": 4,
 "nbformat_minor": 5
}
