{
 "cells": [
  {
   "cell_type": "code",
   "execution_count": 1,
   "id": "e4ead811",
   "metadata": {},
   "outputs": [],
   "source": [
    "# implementation of quick sort in python using hoare partition scheme\n",
    "\n",
    "def swap(a, b, arr):\n",
    "    if a!=b:\n",
    "        tmp = arr[a]\n",
    "        arr[a] = arr[b]\n",
    "        arr[b] = tmp\n",
    "\n",
    "def quick_sort(elements, start, end):\n",
    "    if start < end:\n",
    "        pi = partition(elements, start, end)\n",
    "        quick_sort(elements, start, pi-1)\n",
    "        quick_sort(elements, pi+1, end)\n",
    "\n",
    "def partition(elements, start, end):\n",
    "    pivot_index = start\n",
    "    pivot = elements[pivot_index]\n",
    "\n",
    "    while start < end:\n",
    "        while start < len(elements) and elements[start] <= pivot:\n",
    "            start+=1\n",
    "\n",
    "        while elements[end] > pivot:\n",
    "            end-=1\n",
    "\n",
    "        if start < end:\n",
    "            swap(start, end, elements)\n",
    "\n",
    "    swap(pivot_index, end, elements)\n",
    "\n",
    "    return end\n"
   ]
  },
  {
   "cell_type": "code",
   "execution_count": 74,
   "id": "8a154d7b",
   "metadata": {},
   "outputs": [],
   "source": [
    "def lomuto_partition(elements, start, end):\n",
    "    pivot = elements[end]\n",
    "    \n",
    "    i = start \n",
    "    \n",
    "    for j in range(start, end):\n",
    "        if elements[j] <= pivot:\n",
    "            swap(i, j, elements)\n",
    "            i = i+1\n",
    "            \n",
    "    swap(i, end, elements)\n",
    "    return i\n",
    "    "
   ]
  },
  {
   "cell_type": "code",
   "execution_count": 75,
   "id": "face2cf1",
   "metadata": {},
   "outputs": [],
   "source": [
    "def l_quick_sort(elements, start, end):\n",
    "    if len(elements) == 1:\n",
    "        return\n",
    "    if start < end:\n",
    "        p = lomuto_partition(elements, start, end)\n",
    "        l_quick_sort(elements, start, p - 1)\n",
    "        l_quick_sort(elements, p+1, end)"
   ]
  },
  {
   "cell_type": "code",
   "execution_count": null,
   "id": "cad9c1a6",
   "metadata": {},
   "outputs": [],
   "source": [
    "elements = []"
   ]
  },
  {
   "cell_type": "code",
   "execution_count": 77,
   "id": "1491e88b",
   "metadata": {},
   "outputs": [
    {
     "name": "stdout",
     "output_type": "stream",
     "text": [
      "None\n"
     ]
    }
   ],
   "source": [
    "print(l_quick_sort(elements, 0, len(elements)-1))"
   ]
  },
  {
   "cell_type": "code",
   "execution_count": null,
   "id": "6b2efab9",
   "metadata": {},
   "outputs": [],
   "source": []
  }
 ],
 "metadata": {
  "kernelspec": {
   "display_name": "Python 3 (ipykernel)",
   "language": "python",
   "name": "python3"
  },
  "language_info": {
   "codemirror_mode": {
    "name": "ipython",
    "version": 3
   },
   "file_extension": ".py",
   "mimetype": "text/x-python",
   "name": "python",
   "nbconvert_exporter": "python",
   "pygments_lexer": "ipython3",
   "version": "3.9.12"
  }
 },
 "nbformat": 4,
 "nbformat_minor": 5
}
