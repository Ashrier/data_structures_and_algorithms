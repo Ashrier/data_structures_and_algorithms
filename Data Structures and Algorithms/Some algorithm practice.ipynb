{
 "cells": [
  {
   "cell_type": "code",
   "execution_count": 10,
   "id": "0a8cd86e",
   "metadata": {},
   "outputs": [
    {
     "name": "stdout",
     "output_type": "stream",
     "text": [
      "somestring\n"
     ]
    }
   ],
   "source": [
    "s = 'some string'\n",
    "s = s.lower().replace(' ','')"
   ]
  },
  {
   "cell_type": "code",
   "execution_count": 23,
   "id": "0a71aae5",
   "metadata": {},
   "outputs": [],
   "source": [
    "def repeats(s = None):\n",
    "    try:\n",
    "        if type(s) == str:\n",
    "            l = []\n",
    "            s = s.lower().replace(' ','')\n",
    "            for x in range(len(s)):\n",
    "                if s[x] in l:\n",
    "                    print(s[x], ' is repeated')\n",
    "                if s[x] not in l:\n",
    "                    l.append(s[x])\n",
    "    except ValueError:\n",
    "        print('Not str data type.')"
   ]
  },
  {
   "cell_type": "code",
   "execution_count": 26,
   "id": "bb165fc1",
   "metadata": {},
   "outputs": [
    {
     "name": "stdout",
     "output_type": "stream",
     "text": [
      "s  is repeated\n"
     ]
    }
   ],
   "source": [
    "repeats(s)"
   ]
  },
  {
   "cell_type": "code",
   "execution_count": 33,
   "id": "40dc4b44",
   "metadata": {},
   "outputs": [],
   "source": [
    "def repeats_without_data_structs(s = None):\n",
    "    for x in range(len(s)):\n",
    "        for y in range(1+x, len(s)):\n",
    "            if s[x] == s[y]:\n",
    "                print(s[x], ' is repeated')"
   ]
  },
  {
   "cell_type": "code",
   "execution_count": 34,
   "id": "f36bb93e",
   "metadata": {},
   "outputs": [
    {
     "name": "stdout",
     "output_type": "stream",
     "text": [
      "s  is repeated\n"
     ]
    }
   ],
   "source": [
    "repeats_without_data_structs(s)"
   ]
  },
  {
   "cell_type": "code",
   "execution_count": 40,
   "id": "98fd82ab",
   "metadata": {},
   "outputs": [],
   "source": [
    "def remove_repeats(s):\n",
    "    \"\"\" Takes a string and removes any repeat characters\"\"\"\n",
    "    a = ''\n",
    "    for x in range(len(s)):\n",
    "        for y in range(1+x, len(s)):\n",
    "            if s[x] == s[y]:\n",
    "                a = s[0:y] + s[y+1:]\n",
    "    return a"
   ]
  },
  {
   "cell_type": "code",
   "execution_count": 41,
   "id": "1378dfba",
   "metadata": {},
   "outputs": [
    {
     "data": {
      "text/plain": [
       "'sometring'"
      ]
     },
     "execution_count": 41,
     "metadata": {},
     "output_type": "execute_result"
    }
   ],
   "source": [
    "remove_repeats(s)"
   ]
  },
  {
   "cell_type": "code",
   "execution_count": null,
   "id": "87ecc191",
   "metadata": {},
   "outputs": [],
   "source": []
  }
 ],
 "metadata": {
  "kernelspec": {
   "display_name": "Python 3 (ipykernel)",
   "language": "python",
   "name": "python3"
  },
  "language_info": {
   "codemirror_mode": {
    "name": "ipython",
    "version": 3
   },
   "file_extension": ".py",
   "mimetype": "text/x-python",
   "name": "python",
   "nbconvert_exporter": "python",
   "pygments_lexer": "ipython3",
   "version": "3.9.12"
  }
 },
 "nbformat": 4,
 "nbformat_minor": 5
}
