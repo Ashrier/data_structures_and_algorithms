{
 "cells": [
  {
   "cell_type": "code",
   "execution_count": 25,
   "id": "c67dd6f5",
   "metadata": {},
   "outputs": [],
   "source": [
    "from ordered_set import OrderedSet as OS"
   ]
  },
  {
   "cell_type": "code",
   "execution_count": 26,
   "id": "c7c1f853",
   "metadata": {},
   "outputs": [],
   "source": [
    "def shell_sort(arr):\n",
    "    size = len(arr)\n",
    "    gap = size//2\n",
    "\n",
    "    while gap > 0:\n",
    "        for i in range(gap,size):\n",
    "            anchor = arr[i]\n",
    "            j = i\n",
    "            while j>=gap and arr[j-gap]>anchor:\n",
    "                arr[j] = arr[j-gap]\n",
    "                j -= gap\n",
    "            arr[j] = anchor\n",
    "        gap = gap // 2\n",
    "    \n",
    "    arr = list(OS(arr))\n",
    "    return arr\n",
    "\n",
    "def foo(arr):\n",
    "    size = len(arr)\n",
    "    gap = size // 2\n",
    "    gap = 3\n",
    "    for i in range(gap, size):\n",
    "        anchor = arr[i]\n",
    "        j = i\n",
    "        while j>=gap and arr[j-gap]>anchor:\n",
    "            arr[j] = arr[j-gap]\n",
    "            j -= gap\n",
    "        arr[j] = anchor\n"
   ]
  },
  {
   "cell_type": "code",
   "execution_count": 27,
   "id": "2afe0e07",
   "metadata": {},
   "outputs": [],
   "source": [
    "elements = [2, 1, 5, 7, 2, 0, 5, 1, 2, 9, 5, 8, 3]"
   ]
  },
  {
   "cell_type": "code",
   "execution_count": 28,
   "id": "c7154687",
   "metadata": {},
   "outputs": [
    {
     "data": {
      "text/plain": [
       "[0, 1, 2, 3, 5, 7, 8, 9]"
      ]
     },
     "execution_count": 28,
     "metadata": {},
     "output_type": "execute_result"
    }
   ],
   "source": [
    "shell_sort(elements)"
   ]
  },
  {
   "cell_type": "code",
   "execution_count": 29,
   "id": "d84d4e63",
   "metadata": {},
   "outputs": [
    {
     "data": {
      "text/plain": [
       "[0, 1, 1, 2, 2, 2, 3, 5, 5, 5, 7, 8, 9]"
      ]
     },
     "execution_count": 29,
     "metadata": {},
     "output_type": "execute_result"
    }
   ],
   "source": [
    "elements"
   ]
  },
  {
   "cell_type": "code",
   "execution_count": null,
   "id": "79991f30",
   "metadata": {},
   "outputs": [],
   "source": []
  }
 ],
 "metadata": {
  "kernelspec": {
   "display_name": "Python 3 (ipykernel)",
   "language": "python",
   "name": "python3"
  },
  "language_info": {
   "codemirror_mode": {
    "name": "ipython",
    "version": 3
   },
   "file_extension": ".py",
   "mimetype": "text/x-python",
   "name": "python",
   "nbconvert_exporter": "python",
   "pygments_lexer": "ipython3",
   "version": "3.9.12"
  }
 },
 "nbformat": 4,
 "nbformat_minor": 5
}
