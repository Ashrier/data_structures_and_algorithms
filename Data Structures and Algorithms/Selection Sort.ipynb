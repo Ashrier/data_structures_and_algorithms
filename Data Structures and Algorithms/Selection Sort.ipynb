{
 "cells": [
  {
   "cell_type": "code",
   "execution_count": 46,
   "id": "f9bc3a24",
   "metadata": {},
   "outputs": [],
   "source": [
    "elements = [21,38,29,17,2,25,11,32,9]"
   ]
  },
  {
   "cell_type": "code",
   "execution_count": 47,
   "id": "0d32b2f0",
   "metadata": {},
   "outputs": [
    {
     "data": {
      "text/plain": [
       "2"
      ]
     },
     "execution_count": 47,
     "metadata": {},
     "output_type": "execute_result"
    }
   ],
   "source": [
    "find_min_element(elements)"
   ]
  },
  {
   "cell_type": "code",
   "execution_count": 90,
   "id": "a4b0134c",
   "metadata": {},
   "outputs": [],
   "source": [
    "def selection_sort(arr, keys = None):\n",
    "    size = len(arr)\n",
    "    if keys == None:\n",
    "        for i in range(size-1):\n",
    "            min_index = i\n",
    "            for j in range(min_index+1, size):\n",
    "                if arr[j] < arr[min_index]:\n",
    "                    min_index = j\n",
    "\n",
    "            if i != min_index:\n",
    "                arr[i], arr[min_index] = arr[min_index], arr[i]\n",
    "    \n",
    "    if keys != None:\n",
    "        for key in keys:\n",
    "            for i in range(size-1):\n",
    "                min_index = i\n",
    "                for j in range(min_index+1, size):\n",
    "                    if arr[j][key] < arr[min_index][key]:\n",
    "                        min_index = j\n",
    "                    \n",
    "                if i != min_index:\n",
    "                    arr[i], arr[min_index] = arr[min_index], arr[i]"
   ]
  },
  {
   "cell_type": "code",
   "execution_count": 91,
   "id": "8e0cb515",
   "metadata": {},
   "outputs": [],
   "source": [
    "elements = [\n",
    "        {'First Name': 'Raj', 'Last Name': 'Nayyar'},\n",
    "        {'First Name': 'Suraj', 'Last Name': 'Sharma'},\n",
    "        {'First Name': 'Karan', 'Last Name': 'Kumar'},\n",
    "        {'First Name': 'Jade', 'Last Name': 'Canary'},\n",
    "        {'First Name': 'Raj', 'Last Name': 'Thakur'},\n",
    "        {'First Name': 'Raj', 'Last Name': 'Sharma'},\n",
    "        {'First Name': 'Kiran', 'Last Name': 'Kamla'},\n",
    "        {'First Name': 'Armaan', 'Last Name': 'Kumar'},\n",
    "        {'First Name': 'Jaya', 'Last Name': 'Sharma'},\n",
    "        {'First Name': 'Ingrid', 'Last Name': 'Galore'},\n",
    "        {'First Name': 'Jaya', 'Last Name': 'Seth'},\n",
    "        {'First Name': 'Armaan', 'Last Name': 'Dadra'},\n",
    "        {'First Name': 'Ingrid', 'Last Name': 'Maverick'},\n",
    "        {'First Name': 'Aahana', 'Last Name': 'Arora'}\n",
    "    ]"
   ]
  },
  {
   "cell_type": "code",
   "execution_count": 92,
   "id": "09db6176",
   "metadata": {},
   "outputs": [
    {
     "data": {
      "text/plain": [
       "{'First Name': 'Karan', 'Last Name': 'Kumar'}"
      ]
     },
     "execution_count": 92,
     "metadata": {},
     "output_type": "execute_result"
    }
   ],
   "source": [
    "elements[2]"
   ]
  },
  {
   "cell_type": "code",
   "execution_count": 95,
   "id": "1e83a93e",
   "metadata": {},
   "outputs": [],
   "source": [
    "selection_sort(elements, keys = ['First Name'])"
   ]
  },
  {
   "cell_type": "code",
   "execution_count": 96,
   "id": "96eec3a1",
   "metadata": {},
   "outputs": [
    {
     "data": {
      "text/plain": [
       "[{'First Name': 'Aahana', 'Last Name': 'Arora'},\n",
       " {'First Name': 'Armaan', 'Last Name': 'Dadra'},\n",
       " {'First Name': 'Armaan', 'Last Name': 'Kumar'},\n",
       " {'First Name': 'Ingrid', 'Last Name': 'Galore'},\n",
       " {'First Name': 'Ingrid', 'Last Name': 'Maverick'},\n",
       " {'First Name': 'Jade', 'Last Name': 'Canary'},\n",
       " {'First Name': 'Jaya', 'Last Name': 'Seth'},\n",
       " {'First Name': 'Jaya', 'Last Name': 'Sharma'},\n",
       " {'First Name': 'Karan', 'Last Name': 'Kumar'},\n",
       " {'First Name': 'Kiran', 'Last Name': 'Kamla'},\n",
       " {'First Name': 'Raj', 'Last Name': 'Sharma'},\n",
       " {'First Name': 'Raj', 'Last Name': 'Nayyar'},\n",
       " {'First Name': 'Raj', 'Last Name': 'Thakur'},\n",
       " {'First Name': 'Suraj', 'Last Name': 'Sharma'}]"
      ]
     },
     "execution_count": 96,
     "metadata": {},
     "output_type": "execute_result"
    }
   ],
   "source": [
    "elements"
   ]
  },
  {
   "cell_type": "code",
   "execution_count": null,
   "id": "e61dffb4",
   "metadata": {},
   "outputs": [],
   "source": []
  }
 ],
 "metadata": {
  "kernelspec": {
   "display_name": "Python 3 (ipykernel)",
   "language": "python",
   "name": "python3"
  },
  "language_info": {
   "codemirror_mode": {
    "name": "ipython",
    "version": 3
   },
   "file_extension": ".py",
   "mimetype": "text/x-python",
   "name": "python",
   "nbconvert_exporter": "python",
   "pygments_lexer": "ipython3",
   "version": "3.9.12"
  }
 },
 "nbformat": 4,
 "nbformat_minor": 5
}
