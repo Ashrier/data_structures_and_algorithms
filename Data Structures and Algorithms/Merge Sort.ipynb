{
 "cells": [
  {
   "cell_type": "code",
   "execution_count": 19,
   "id": "4dcd08b6",
   "metadata": {},
   "outputs": [],
   "source": [
    "def merge_sort(arr, key = None, descending = None):\n",
    "    if len(arr) <= 1:\n",
    "        return\n",
    "    if key == None:\n",
    "        mid = len(arr)//2\n",
    "\n",
    "        left = arr[:mid]\n",
    "        right = arr[mid:]\n",
    "\n",
    "        merge_sort(left)\n",
    "        merge_sort(right)\n",
    "\n",
    "        merge_two_sorted_lists(left, right, arr, descending)\n",
    "    \n",
    "    if key != None:\n",
    "        mid = len(arr)//2\n",
    "        \n",
    "        left = arr[:mid]\n",
    "        right = arr[mid:]\n",
    "        \n",
    "        merge_sort(left, key, descending)\n",
    "        merge_sort(right, key, descending)\n",
    "        \n",
    "        merge_two_sorted_lists(left, right, arr, key = key)\n",
    "        \n",
    "    if key != None and descending == True:\n",
    "        mid = len(arr)//2\n",
    "        \n",
    "        left = arr[:mid]\n",
    "        right = arr[mid:]\n",
    "        \n",
    "        merge_sort(left, key, descending)\n",
    "        merge_sort(right, key, descending)\n",
    "        \n",
    "        merge_two_sorted_lists(left, right, arr, key = key, descending = descending)\n",
    "        \n",
    "    \n",
    "def merge_two_sorted_lists(a,b,arr, key = None, descending = None):\n",
    "    len_a = len(a)\n",
    "    len_b = len(b)\n",
    "\n",
    "    i = j = k = 0\n",
    "    if key == None:\n",
    "        while i < len_a and j < len_b:\n",
    "            if a[i] <= b[j]:\n",
    "                arr[k] = a[i]\n",
    "                i+=1\n",
    "            else:\n",
    "                arr[k] = b[j]\n",
    "                j+=1\n",
    "            k+=1\n",
    "\n",
    "        while i < len_a:\n",
    "            arr[k] = a[i]\n",
    "            i+=1\n",
    "            k+=1\n",
    "\n",
    "        while j < len_b:\n",
    "            arr[k] = b[j]\n",
    "            j+=1\n",
    "            k+=1\n",
    "            \n",
    "    if key != None and descending == None:\n",
    "        while i < len_a and j < len_b:\n",
    "            if a[i][key] < b[j][key]:\n",
    "                arr[k] = a[i]\n",
    "                i+=1\n",
    "            else:\n",
    "                arr[k] = b[j]\n",
    "                j+=1\n",
    "            k+=1\n",
    "            \n",
    "            while i < len_a:\n",
    "                arr[k] = a[i]\n",
    "                i+=1\n",
    "                k+=1\n",
    "\n",
    "            while j < len_b:\n",
    "                arr[k] = b[j]\n",
    "                j+=1\n",
    "                k+=1\n",
    "                \n",
    "    if key!= None and descending == True:\n",
    "        while i < len_a and j < len_b:\n",
    "            if a[i][key] < b[j][key]:\n",
    "                arr[k] = b[j]\n",
    "                j+=1\n",
    "            else:\n",
    "                arr[k] = a[i]\n",
    "                i+=1\n",
    "            k+=1\n",
    "            \n",
    "            while i < len_a:\n",
    "                arr[k] = a[i]\n",
    "                i+=1\n",
    "                k+=1\n",
    "\n",
    "            while j < len_b:\n",
    "                arr[k] = b[j]\n",
    "                j+=1\n",
    "                k+=1\n",
    "            "
   ]
  },
  {
   "cell_type": "code",
   "execution_count": 28,
   "id": "8fed10c5",
   "metadata": {},
   "outputs": [],
   "source": [
    "elements = [\n",
    "        { 'name': 'vedanth',   'age': 17, 'time_hours': 1},\n",
    "        { 'name': 'rajab', 'age': 12,  'time_hours': 3},\n",
    "        { 'name': 'vignesh',  'age': 21,  'time_hours': 2.5},\n",
    "        { 'name': 'chinmay',  'age': 24,  'time_hours': 1.5},\n",
    "    ]"
   ]
  },
  {
   "cell_type": "code",
   "execution_count": 29,
   "id": "639bc26c",
   "metadata": {},
   "outputs": [],
   "source": [
    "merge_sort(elements, key = 'age', descending = True)"
   ]
  },
  {
   "cell_type": "code",
   "execution_count": 30,
   "id": "809531b1",
   "metadata": {},
   "outputs": [
    {
     "data": {
      "text/plain": [
       "[{'name': 'chinmay', 'age': 24, 'time_hours': 1.5},\n",
       " {'name': 'vedanth', 'age': 17, 'time_hours': 1},\n",
       " {'name': 'rajab', 'age': 12, 'time_hours': 3},\n",
       " {'name': 'vignesh', 'age': 21, 'time_hours': 2.5}]"
      ]
     },
     "execution_count": 30,
     "metadata": {},
     "output_type": "execute_result"
    }
   ],
   "source": [
    "elements\n"
   ]
  },
  {
   "cell_type": "code",
   "execution_count": null,
   "id": "b505794b",
   "metadata": {},
   "outputs": [],
   "source": []
  }
 ],
 "metadata": {
  "kernelspec": {
   "display_name": "Python 3 (ipykernel)",
   "language": "python",
   "name": "python3"
  },
  "language_info": {
   "codemirror_mode": {
    "name": "ipython",
    "version": 3
   },
   "file_extension": ".py",
   "mimetype": "text/x-python",
   "name": "python",
   "nbconvert_exporter": "python",
   "pygments_lexer": "ipython3",
   "version": "3.9.12"
  }
 },
 "nbformat": 4,
 "nbformat_minor": 5
}
