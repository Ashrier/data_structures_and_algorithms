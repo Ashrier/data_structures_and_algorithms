{
 "cells": [
  {
   "cell_type": "code",
   "execution_count": 11,
   "id": "57f954e2",
   "metadata": {},
   "outputs": [],
   "source": [
    "class BSTNode:\n",
    "    def __init__(self, data):\n",
    "        self.data = data\n",
    "        self.left = None\n",
    "        self.right = None\n",
    "    \n",
    "    def add(self, data):\n",
    "        if data == self.data:\n",
    "            return\n",
    "        if data < self.data:\n",
    "            if self.left:\n",
    "                self.left.add(data)\n",
    "            else:\n",
    "                self.left = BSTNode(data)\n",
    "        else:\n",
    "            if self.right:\n",
    "                self.right.add(data)\n",
    "            else:\n",
    "                self.right = BSTNode(data)\n",
    "                \n",
    "    def in_order_traversal(self):\n",
    "        elements = []\n",
    "        \n",
    "        if self.left:\n",
    "            elements += self.left.in_order_traversal()\n",
    "            \n",
    "        elements.append(self.data)\n",
    "        if self.right:\n",
    "            elements += self.right.in_order_traversal()\n",
    "        \n",
    "        return elements\n",
    "    \n",
    "    def search(self, val):\n",
    "        if val == self.data:\n",
    "            return True\n",
    "        \n",
    "        if val < self.data:\n",
    "            if self.left:\n",
    "                self.left.search(val)\n",
    "            else:\n",
    "                return False\n",
    "                \n",
    "        if val > self.data:\n",
    "            if self.right:\n",
    "                self.right.search(val)\n",
    "            else:\n",
    "                return False\n",
    "                \n",
    "    def find_min(self):\n",
    "        if self.left is None:\n",
    "            return self.data\n",
    "        return self.left.find_min()\n",
    "        \n",
    "    def find_max(self):\n",
    "        if self.right is None:\n",
    "            return self.data\n",
    "        return self.right.find_max()\n",
    "    \n",
    "    def calculate_sum(self):\n",
    "        elements = self.in_order_traversal()\n",
    "        total = 0\n",
    "        for i in range(len(elements)):\n",
    "            total += elements[i]\n",
    "        return total\n",
    "    \n",
    "    def pre_order_traversal(self):\n",
    "        elements = []\n",
    "        \n",
    "        elements.append(self.data)\n",
    "        if self.left:\n",
    "            elements += self.left.pre_order_traversal()\n",
    "        \n",
    "        if self.right:\n",
    "            elements += self.right.pre_order_traversal()\n",
    "        \n",
    "        return elements\n",
    "    \n",
    "    def post_order_traversal(self):\n",
    "        elements = []\n",
    "        \n",
    "        if self.left:\n",
    "            elements += self.left.post_order_traversal()\n",
    "            \n",
    "        if self.right:\n",
    "            elements += self.right.post_order_traversal()\n",
    "            \n",
    "        elements.append(self.data)\n",
    "        return elements\n",
    "    \n",
    "    def delete(self, val):\n",
    "        if val < self.data:\n",
    "            if self.left:\n",
    "                self.left = self.left.delete(val)\n",
    "        elif val > self.data:\n",
    "            if self.right:\n",
    "                self.right = self.right.delete(val)\n",
    "        else:\n",
    "            if self.left is None and self.right is None:\n",
    "                return None\n",
    "            if self.left is None:\n",
    "                return self.right\n",
    "            if self.right is None:\n",
    "                return self.left\n",
    "            \n",
    "            #min_val = self.right.find_min()\n",
    "            #self.data = min_val\n",
    "            #self.right = self.right.delete(min_val)\n",
    "            \n",
    "            max_val = self.left.find_max()\n",
    "            self.data = max_val\n",
    "            self.left = self.left.delete(max_val)\n",
    "            \n",
    "        return self\n",
    "            "
   ]
  },
  {
   "cell_type": "code",
   "execution_count": 12,
   "id": "62b76cd6",
   "metadata": {},
   "outputs": [],
   "source": [
    "def build_tree(elements):\n",
    "    root = BSTNode(elements[0])\n",
    "    \n",
    "    for i in range(len(elements) - 1):\n",
    "        root.add(elements[i + 1])\n",
    "        \n",
    "    return root"
   ]
  },
  {
   "cell_type": "code",
   "execution_count": 22,
   "id": "a84d56a1",
   "metadata": {},
   "outputs": [
    {
     "name": "stdout",
     "output_type": "stream",
     "text": [
      "[17, 4, 1, 9, 20, 18, 23, 34]\n",
      "[1, 9, 4, 18, 34, 23, 20, 17]\n"
     ]
    }
   ],
   "source": [
    "numbers = [17, 4, 1, 20, 9, 23, 18, 34]\n",
    "numbers_tree = build_tree(numbers)\n",
    "#print(numbers_tree.in_order_traversal())\n",
    "#print(numbers_tree.search(17))\n",
    "#print(numbers_tree.find_min())\n",
    "#print(numbers_tree.find_max())\n",
    "#print(numbers_tree.calculate_sum())\n",
    "print(numbers_tree.pre_order_traversal())\n",
    "print(numbers_tree.post_order_traversal())"
   ]
  },
  {
   "cell_type": "code",
   "execution_count": 23,
   "id": "e68a38c6",
   "metadata": {},
   "outputs": [
    {
     "data": {
      "text/plain": [
       "<__main__.BSTNode at 0x261e6105f10>"
      ]
     },
     "execution_count": 23,
     "metadata": {},
     "output_type": "execute_result"
    }
   ],
   "source": [
    "numbers_tree.delete(34)"
   ]
  },
  {
   "cell_type": "code",
   "execution_count": 24,
   "id": "7c911d1d",
   "metadata": {},
   "outputs": [
    {
     "name": "stdout",
     "output_type": "stream",
     "text": [
      "[1, 4, 9, 17, 18, 20, 23]\n"
     ]
    }
   ],
   "source": [
    "print(numbers_tree.in_order_traversal())"
   ]
  },
  {
   "cell_type": "code",
   "execution_count": null,
   "id": "6cefbca0",
   "metadata": {},
   "outputs": [],
   "source": []
  }
 ],
 "metadata": {
  "kernelspec": {
   "display_name": "Python 3 (ipykernel)",
   "language": "python",
   "name": "python3"
  },
  "language_info": {
   "codemirror_mode": {
    "name": "ipython",
    "version": 3
   },
   "file_extension": ".py",
   "mimetype": "text/x-python",
   "name": "python",
   "nbconvert_exporter": "python",
   "pygments_lexer": "ipython3",
   "version": "3.9.12"
  }
 },
 "nbformat": 4,
 "nbformat_minor": 5
}
